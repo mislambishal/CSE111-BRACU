{
  "nbformat": 4,
  "nbformat_minor": 0,
  "metadata": {
    "colab": {
      "provenance": []
    },
    "kernelspec": {
      "name": "python3",
      "display_name": "Python 3"
    },
    "language_info": {
      "name": "python"
    }
  },
  "cells": [
    {
      "cell_type": "markdown",
      "source": [
        "#1"
      ],
      "metadata": {
        "id": "EvqlqLhbuaYs"
      }
    },
    {
      "cell_type": "code",
      "execution_count": null,
      "metadata": {
        "colab": {
          "base_uri": "https://localhost:8080/"
        },
        "id": "j0E2fZxEuM0h",
        "outputId": "ff446d8b-50ae-4108-f7e3-adc9eab618bf"
      },
      "outputs": [
        {
          "output_type": "stream",
          "name": "stdout",
          "text": [
            "Name: default Department: BBA\n",
            "Name: Humpty Dumpty Department: BBA\n",
            "Name: Little Bo Peep Department: BBA\n"
          ]
        }
      ],
      "source": [
        "class Student:\n",
        "    def __init__(self, name=\"Just a student\", dept=\"nothing\"):\n",
        "        self.__name = name\n",
        "        self.__department = dept\n",
        "\n",
        "    def set_department(self, dept):\n",
        "        self.__department = dept\n",
        "\n",
        "    def get_name(self):\n",
        "        return self.__name\n",
        "\n",
        "    def set_name(self, name):\n",
        "        self.__name = name\n",
        "\n",
        "    def __str__(self):\n",
        "        return \"Name: \" + self.__name + \" Department: \" + self.__department\n",
        "\n",
        "\n",
        "class BBA_Student(Student):\n",
        "    def __init__(self, name=\"default\", dept=\"BBA\"):\n",
        "        super().__init__(name, dept)\n",
        "\n",
        "\n",
        "print(BBA_Student())\n",
        "print(BBA_Student(\"Humpty Dumpty\"))\n",
        "print(BBA_Student(\"Little Bo Peep\"))\n"
      ]
    },
    {
      "cell_type": "markdown",
      "source": [
        "#2"
      ],
      "metadata": {
        "id": "uuXE3OJGvA_d"
      }
    },
    {
      "cell_type": "code",
      "source": [
        "class Vehicle:\n",
        "    def __init__(self):\n",
        "        self.x = 0\n",
        "        self.y = 0\n",
        "\n",
        "    def moveUp(self):\n",
        "        self.y += 1\n",
        "\n",
        "    def moveDown(self):\n",
        "        self.y -= 1\n",
        "\n",
        "    def moveRight(self):\n",
        "        self.x += 1\n",
        "\n",
        "    def moveLeft(self):\n",
        "        self.x -= 1\n",
        "\n",
        "    def __str__(self):\n",
        "        return \"(\" + str(self.x) + \" , \" + str(self.y) + \")\"\n",
        "\n",
        "\n",
        "class Vehicle2010(Vehicle):\n",
        "    def moveUpperRight(self):\n",
        "        super().moveUp()\n",
        "        super().moveRight()\n",
        "\n",
        "    def moveUpperLeft(self):\n",
        "        super().moveUp()\n",
        "        super().moveLeft()\n",
        "    \n",
        "    def moveLowerRigth(self):\n",
        "        super().moveDown()\n",
        "        super().moveRight()\n",
        "\n",
        "    def moveLowerLeft(self):\n",
        "        super().moveDown()\n",
        "        super().moveLeft()\n",
        "\n",
        "\n",
        "    def equals(self, other):\n",
        "        return self.x == other.x and self.y == other.y\n",
        "\n",
        "\n",
        "print(\"Part 1\")\n",
        "print(\"------\")\n",
        "car = Vehicle()\n",
        "print(car)\n",
        "car.moveUp()\n",
        "print(car)\n",
        "car.moveLeft()\n",
        "print(car)\n",
        "car.moveDown()\n",
        "print(car)\n",
        "car.moveRight()\n",
        "print(car)\n",
        "print(\"------\")\n",
        "print(\"Part 2\")\n",
        "print(\"------\")\n",
        "car1 = Vehicle2010()\n",
        "print(car1)\n",
        "car1.moveLowerLeft()\n",
        "print(car1)\n",
        "car2 = Vehicle2010()\n",
        "car2.moveLeft()\n",
        "print(car1.equals(car2))\n",
        "car2.moveDown()\n",
        "print(car1.equals(car2))"
      ],
      "metadata": {
        "colab": {
          "base_uri": "https://localhost:8080/"
        },
        "id": "j_6AYeC7vC2v",
        "outputId": "0bcc27fe-0f07-4295-cd42-93ec16982b33"
      },
      "execution_count": null,
      "outputs": [
        {
          "output_type": "stream",
          "name": "stdout",
          "text": [
            "Part 1\n",
            "------\n",
            "(0 , 0)\n",
            "(0 , 1)\n",
            "(-1 , 1)\n",
            "(-1 , 0)\n",
            "(0 , 0)\n",
            "------\n",
            "Part 2\n",
            "------\n",
            "(0 , 0)\n",
            "(-1 , -1)\n",
            "False\n",
            "True\n"
          ]
        }
      ]
    },
    {
      "cell_type": "markdown",
      "source": [
        "#3"
      ],
      "metadata": {
        "id": "B58Qbv1Kt72C"
      }
    },
    {
      "cell_type": "code",
      "source": [
        "class Tournament:\n",
        "    def __init__(self, name=\"Default\"):\n",
        "        self.__name = name\n",
        "\n",
        "    def set_name(self, name):\n",
        "        self.__name = name\n",
        "\n",
        "    def get_name(self):\n",
        "        return self.__name\n",
        "\n",
        "\n",
        "class Cricket_Tournament(Tournament):\n",
        "    def __init__(self, name=None, teams=0, type=\"No type\"):\n",
        "        self.teams = teams\n",
        "        self.type = type\n",
        "        self.name = name\n",
        "\n",
        "        if self.name == None:\n",
        "            self.name = super().__init__()\n",
        "        else:\n",
        "            self.name = super().__init__(name)\n",
        "\n",
        "    def detail(self):\n",
        "        name = super().get_name()\n",
        "        return f\"Cricket Tournament Name: {name}\\nNumber of Teams: {self.teams}\\nType: {self.type}\"\n",
        "\n",
        "\n",
        "class Tennis_Tournament(Tournament):\n",
        "    def __init__(self, name, player_num):\n",
        "        super().__init__(name)\n",
        "        self.player_num = player_num\n",
        "\n",
        "    def detail(self):\n",
        "        name = super().get_name()\n",
        "        return (\n",
        "            f\"Tennis Tournamnet Name: {name}\\nNumber of Players: {self.player_num}\"\n",
        "        )\n",
        "\n",
        "ct1 = Cricket_Tournament()\n",
        "print(ct1.detail())\n",
        "print(\"-----------------------\")\n",
        "ct2 = Cricket_Tournament(\"IPL\",10,\"t20\")\n",
        "print(ct2.detail())\n",
        "print(\"-----------------------\")\n",
        "tt = Tennis_Tournament(\"Roland Garros\",128)\n",
        "print(tt.detail())\n"
      ],
      "metadata": {
        "colab": {
          "base_uri": "https://localhost:8080/"
        },
        "id": "x75AppeTt81l",
        "outputId": "416f67f6-a83d-4512-ec52-6ec1cfdefb84"
      },
      "execution_count": null,
      "outputs": [
        {
          "output_type": "stream",
          "name": "stdout",
          "text": [
            "Cricket Tournament Name: Default\n",
            "Number of Teams: 0\n",
            "Type: No type\n",
            "-----------------------\n",
            "Cricket Tournament Name: IPL\n",
            "Number of Teams: 10\n",
            "Type: t20\n",
            "-----------------------\n",
            "Tennis Tournamnet Name: Roland Garros\n",
            "Number of Players: 128\n"
          ]
        }
      ]
    },
    {
      "cell_type": "markdown",
      "source": [
        "#4"
      ],
      "metadata": {
        "id": "_CCJAN6qwhQ9"
      }
    },
    {
      "cell_type": "code",
      "source": [
        "class Product:\n",
        "    def __init__(self,id, title, price):\n",
        "        self.__id = id\n",
        "        self.__title = title\n",
        "        self.__price = price\n",
        "    def get_id_title_price(self):\n",
        "        return \"ID: \"+str(self.__id)+\" Title:\"+self.__title+ \"Price: \"+str(self.__price)\n",
        "\n",
        "class Book(Product):\n",
        "    def __init__(self, id, title, price,ISBN,publishers):\n",
        "        super().__init__(id, title, price)\n",
        "        self.ISBN = ISBN\n",
        "        self.publisher = publishers\n",
        "\n",
        "    def printDetail(self):\n",
        "        return super().get_id_title_price() + f'\\nISBN: {self.ISBN} Publisher: {self.publisher}'\n",
        "\n",
        "class CD(Product):\n",
        "    def __init__(self, id, title, price,band,duration,genre):\n",
        "        super().__init__(id, title, price)\n",
        "        self.band = band\n",
        "        self.duration = duration\n",
        "        self.genre = genre\n",
        "\n",
        "    def printDetail(self):\n",
        "        return super().get_id_title_price() + f'\\nBand: {self.band} Duration: {self.duration} minutes\\nGenre: {self.genre}'\n",
        "book = Book(1,\"The Alchemist\",500,\"97806\",\"HarperCollins\")\n",
        "print(book.printDetail())\n",
        "print(\"-----------------------\")\n",
        "cd = CD(2,\"Shotto\",300,\"Warfaze\",50,\"Hard Rock\")\n",
        "print(cd.printDetail())\n"
      ],
      "metadata": {
        "colab": {
          "base_uri": "https://localhost:8080/"
        },
        "id": "24_JvmdQwibI",
        "outputId": "0d981d07-9214-478e-a7b5-2ae65a720ed2"
      },
      "execution_count": null,
      "outputs": [
        {
          "output_type": "stream",
          "name": "stdout",
          "text": [
            "ID: 1 Title:The AlchemistPrice: 500\n",
            "ISBN: 97806 Publisher: HarperCollins\n",
            "-----------------------\n",
            "ID: 2 Title:ShottoPrice: 300\n",
            "Band: Warfaze Duration: 50 minutes\n",
            "Genre: Hard Rock\n"
          ]
        }
      ]
    },
    {
      "cell_type": "markdown",
      "source": [
        "#5"
      ],
      "metadata": {
        "id": "8S93g3Qxyom0"
      }
    },
    {
      "cell_type": "code",
      "source": [
        "class Animal:   \n",
        "    def __init__(self,sound):\n",
        "        self.__sound = sound\n",
        "        \n",
        "    def makeSound(self):\n",
        "        return self.__sound\n",
        "        \n",
        "class Dog(Animal):\n",
        "    def __init__(self,sound):\n",
        "        super().__init__(sound)\n",
        "\n",
        "class Cat(Animal):\n",
        "    def __init__(self,sound):\n",
        "        super().__init__(sound)\n",
        "\n",
        "class Printer:   \n",
        "    def printSound(self, a):\n",
        "        print(a.makeSound())\n",
        "\n",
        "\n",
        "#write your code here\n",
        "\n",
        "d1 = Dog('bark')\n",
        "c1 = Cat('meow')\n",
        "a1 = Animal('Animal does not make sound')\n",
        "pr = Printer()\n",
        "pr.printSound(a1)\n",
        "pr.printSound(c1)\n",
        "pr.printSound(d1)"
      ],
      "metadata": {
        "colab": {
          "base_uri": "https://localhost:8080/"
        },
        "id": "Hnd3lO44yqZ7",
        "outputId": "2d5237f4-c9a6-43d4-ad6a-35fd2e6a27ca"
      },
      "execution_count": null,
      "outputs": [
        {
          "output_type": "stream",
          "name": "stdout",
          "text": [
            "Animal does not make sound\n",
            "meow\n",
            "bark\n"
          ]
        }
      ]
    },
    {
      "cell_type": "markdown",
      "source": [
        "#6"
      ],
      "metadata": {
        "id": "3OSZblNC-lcl"
      }
    },
    {
      "cell_type": "code",
      "source": [
        "class Shape:\n",
        "\n",
        "  def __init__(self, name='Default', height=0, base=0):\n",
        "    self.area = 0\n",
        "    self.name = name\n",
        "    self.height = height\n",
        "    self.base = base\n",
        "\n",
        "  def get_height_base(self):\n",
        "    return \"Height: \"+str(self.height)+\",Base: \"+str(self.base)\n",
        "\n",
        "class triangle(Shape):\n",
        "    def calcArea(self):\n",
        "        self.area = (self.height * self.base) / 2\n",
        "\n",
        "    def printDetail(self):\n",
        "\n",
        "        return (\n",
        "            f\"Shape name: {self.name}\\n\"\n",
        "            + super().get_height_base()\n",
        "            + f\"\\nArea: {self.area}\"\n",
        "        )\n",
        "\n",
        "\n",
        "class trapezoid(Shape):\n",
        "    def __init__(self, name, height, base, side_A):\n",
        "        super().__init__(name, height, base)\n",
        "        self.side_A = side_A\n",
        "\n",
        "    def calcArea(self):\n",
        "        self.area = ((self.base + self.side_A) / 2) * self.height\n",
        "\n",
        "    def printDetail(self):\n",
        "        return (\n",
        "            f\"Shape name: {self.name}\\n\"\n",
        "            + super().get_height_base()\n",
        "            + f\", Side_A: {self.side_A}\"\n",
        "            + f\"\\nArea: {self.area}\"\n",
        "        )\n",
        "\n",
        "\n",
        "    \n",
        "tri_default = triangle()\n",
        "tri_default.calcArea()\n",
        "print(tri_default.printDetail())\n",
        "print('--------------------------')\n",
        "tri = triangle('Triangle', 10, 5)\n",
        "tri.calcArea()\n",
        "print(tri.printDetail())\n",
        "print('---------------------------')\n",
        "trap = trapezoid('Trapezoid', 10, 6, 4)\n",
        "trap.calcArea()\n",
        "print(trap.printDetail())\n"
      ],
      "metadata": {
        "colab": {
          "base_uri": "https://localhost:8080/"
        },
        "id": "7F3lz0Xt-m9z",
        "outputId": "d39b4e2c-3274-418a-f1e6-e33d663b53a8"
      },
      "execution_count": 1,
      "outputs": [
        {
          "output_type": "stream",
          "name": "stdout",
          "text": [
            "Shape name: Default\n",
            "Height: 0,Base: 0\n",
            "Area: 0.0\n",
            "--------------------------\n",
            "Shape name: Triangle\n",
            "Height: 10,Base: 5\n",
            "Area: 25.0\n",
            "---------------------------\n",
            "Shape name: Trapezoid\n",
            "Height: 10,Base: 6, Side_A: 4\n",
            "Area: 50.0\n"
          ]
        }
      ]
    },
    {
      "cell_type": "markdown",
      "source": [
        "#7"
      ],
      "metadata": {
        "id": "pczQXfQo0fB7"
      }
    },
    {
      "cell_type": "code",
      "source": [
        "class SportsPerson:\n",
        "\n",
        "  def __init__(self, team_name, name, role):\n",
        "    self.__team = team_name\n",
        "    self.__name = name\n",
        "    self.role = role\n",
        "    self.earning_per_match = 0\n",
        "\n",
        "  def get_name_team(self):\n",
        "    return 'Name: '+self.__name+', Team Name: ' +self.__team\n",
        "\n",
        "class Player(SportsPerson):\n",
        "    def __init__(self,team_name,name,role,goal,play):\n",
        "        super().__init__(team_name,name,role)\n",
        "        self.goal = goal\n",
        "        self.appear = play\n",
        "        self.earning_per_match  = (self.goal*1000) + (self.appear *10)\n",
        "\n",
        "    def calculate_ratio(self):\n",
        "        self.ratio = self.goal/self.appear\n",
        "        \n",
        "    def print_details(self):\n",
        "        print(super().get_name_team())\n",
        "        print(f' Team Role: {self.role}')\n",
        "        print(f'Total Goal : {self.goal}, Total Played: {self.appear}')\n",
        "        print(f'Goal Ratio: {self.ratio}')\n",
        "        print(f'Match Earning: {self.earning_per_match}K')\n",
        "\n",
        "class Manager(SportsPerson):\n",
        "    def __init__(self, team_name, name, role, win):\n",
        "        super().__init__(team_name,name,role)\n",
        "        self.win = win\n",
        "        self.earning_per_match = self.win *1000\n",
        "\n",
        "    def print_details(self):\n",
        "        print(super().get_name_team())\n",
        "        print(f' Team Role: {self.role}')\n",
        "        print(f'Total Win: {self.win}')\n",
        "        print(f'Match Earning: {self.earning_per_match}K')\n",
        "\n",
        "player_one = Player('Juventus', 'Ronaldo', 'Striker', 25, 32)\n",
        "player_one.calculate_ratio()\n",
        "player_one.print_details()\n",
        "print('------------------------------------------')\n",
        "manager_one = Manager('Real Madrid', 'Zidane', 'Manager', 25)\n",
        "manager_one.print_details()\n"
      ],
      "metadata": {
        "colab": {
          "base_uri": "https://localhost:8080/"
        },
        "id": "14mGJfj-0gPM",
        "outputId": "71018f75-71dd-47e1-ac5f-beb04e0cf3f0"
      },
      "execution_count": null,
      "outputs": [
        {
          "output_type": "stream",
          "name": "stdout",
          "text": [
            "Name: Ronaldo, Team Name: Juventus\n",
            " Team Role: Striker\n",
            "Total Goal : 25, Total Played: 32\n",
            "Goal Ratio: 0.78125\n",
            "Match Earning: 25320K\n",
            "------------------------------------------\n",
            "Name: Zidane, Team Name: Real Madrid\n",
            " Team Role: Manager\n",
            "Total Win: 25\n",
            "Match Earning: 25000K\n"
          ]
        }
      ]
    }
  ]
}