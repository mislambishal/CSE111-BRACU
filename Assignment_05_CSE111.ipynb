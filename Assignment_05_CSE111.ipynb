{
  "nbformat": 4,
  "nbformat_minor": 0,
  "metadata": {
    "colab": {
      "provenance": []
    },
    "kernelspec": {
      "name": "python3",
      "display_name": "Python 3"
    },
    "language_info": {
      "name": "python"
    }
  },
  "cells": [
    {
      "cell_type": "markdown",
      "source": [
        "#1"
      ],
      "metadata": {
        "id": "TVi2q1fZhBmT"
      }
    },
    {
      "cell_type": "code",
      "execution_count": 4,
      "metadata": {
        "colab": {
          "base_uri": "https://localhost:8080/"
        },
        "id": "nqdrzEkmg9Cs",
        "outputId": "6b5f41b8-fecc-43f3-fffb-1240032c0757"
      },
      "outputs": [
        {
          "output_type": "stream",
          "name": "stdout",
          "text": [
            "Quiz 1 (out of 10): 10\n",
            "Quiz 2 (out of 10): 8\n",
            "Lab (out of 30): 30\n",
            "Mid (out of 20): 20\n",
            "Final (out of 30): 29\n",
            "Total marks: 97\n"
          ]
        }
      ],
      "source": [
        "class Exam:\n",
        "    def __init__(self,number):\n",
        "        self.mark = number\n",
        "\n",
        "    def __add__(self, other):\n",
        "        total = self.mark + other.mark\n",
        "        return Exam(total)\n",
        "\n",
        "Q1 = Exam(int(input(\"Quiz 1 (out of 10): \")))\n",
        "Q2 = Exam(int(input(\"Quiz 2 (out of 10): \")))\n",
        "Lab = Exam(int(input(\"Lab (out of 30): \")))\n",
        "Mid = Exam(int(input(\"Mid (out of 20): \")))\n",
        "Final = Exam(int(input(\"Final (out of 30): \")))\n",
        "total = Q1 + Q2 + Lab + Mid + Final\n",
        "print(\"Total marks: {}\".format(total.mark))\n"
      ]
    },
    {
      "cell_type": "markdown",
      "source": [
        "#2"
      ],
      "metadata": {
        "id": "op7NEOQUj8Of"
      }
    },
    {
      "cell_type": "code",
      "source": [
        "class Teacher:\n",
        "    def __init__(self,name,dept):\n",
        "        self.__name = name\n",
        "        self.__department = dept\n",
        "        self.__courselist = []\n",
        "\n",
        "    def addCourse(self,other):\n",
        "        self.__courselist.append(other.course)\n",
        "\n",
        "    def printDetail(self):\n",
        "        print(f'====================================')\n",
        "        print(f'Name: {self.__name}')\n",
        "        print(f'Department: {self.__department}')\n",
        "        print(f'List of courses')\n",
        "        print(f'====================================')\n",
        "        for i in self.__courselist:\n",
        "            print(i)\n",
        "        print(f'====================================')\n",
        "\n",
        "\n",
        "class Course:\n",
        "    def __init__(self,course):\n",
        "        self.course = course\n",
        "\n",
        "\n",
        "\n",
        "t1 = Teacher(\"Saad Abdullah\", \"CSE\")\n",
        "t2 = Teacher(\"Mumit Khan\", \"CSE\")\n",
        "t3 = Teacher(\"Sadia Kazi\", \"CSE\")                          \n",
        "c1 = Course(\"CSE 110 Programming Language I\")                           \n",
        "c2 = Course(\"CSE 111 Programming Language-II\")                           \n",
        "c3 = Course(\"CSE 220 Data Structures\")                           \n",
        "c4 = Course(\"CSE 221 Algorithms\")                           \n",
        "c5 = Course(\"CCSE 230 Discrete Mathematics\")                           \n",
        "c6 = Course(\"CSE 310 Object Oriented Programming\")                           \n",
        "c7 = Course(\"CSE 320 Data Communications\")                          \n",
        "c8 = Course(\"CSE 340 Computer Architecture\") \n",
        "t1.addCourse(c1)\n",
        "t1.addCourse(c2)\n",
        "t2.addCourse(c3)\n",
        "t2.addCourse(c4)\n",
        "t2.addCourse(c5)\n",
        "t3.addCourse(c6)\n",
        "t3.addCourse(c7)\n",
        "t3.addCourse(c8)\n",
        "t1.printDetail()\n",
        "t2.printDetail()\n",
        "t3.printDetail()"
      ],
      "metadata": {
        "colab": {
          "base_uri": "https://localhost:8080/"
        },
        "id": "DChVbCxIj-1s",
        "outputId": "5928c65c-b1b9-4f9d-ab19-8a2f53e498ac"
      },
      "execution_count": 10,
      "outputs": [
        {
          "output_type": "stream",
          "name": "stdout",
          "text": [
            "====================================\n",
            "Name: Saad Abdullah\n",
            "Department: CSE\n",
            "List of courses\n",
            "====================================\n",
            "CSE 110 Programming Language I\n",
            "CSE 111 Programming Language-II\n",
            "====================================\n",
            "====================================\n",
            "Name: Mumit Khan\n",
            "Department: CSE\n",
            "List of courses\n",
            "====================================\n",
            "CSE 220 Data Structures\n",
            "CSE 221 Algorithms\n",
            "CCSE 230 Discrete Mathematics\n",
            "====================================\n",
            "====================================\n",
            "Name: Sadia Kazi\n",
            "Department: CSE\n",
            "List of courses\n",
            "====================================\n",
            "CSE 310 Object Oriented Programming\n",
            "CSE 320 Data Communications\n",
            "CSE 340 Computer Architecture\n",
            "====================================\n"
          ]
        }
      ]
    },
    {
      "cell_type": "markdown",
      "source": [
        "#3"
      ],
      "metadata": {
        "id": "BS9xH8Nink4e"
      }
    },
    {
      "cell_type": "code",
      "source": [
        "class Team:\n",
        "    def __init__(self,name = None):\n",
        "        self.__name = name\n",
        "        self.__player = []\n",
        "    \n",
        "    def setName(self,name):\n",
        "        if self.__name == None:\n",
        "            self.__name = name\n",
        "    def addPlayer(self,other):\n",
        "        self.__player.append(other.player)\n",
        "    \n",
        "    def printDetail(self):\n",
        "        print(f'=====================')\n",
        "        print(f'Name: {self.__name}')\n",
        "        print(f'List of Players:')\n",
        "        print(f'{self.__player}')\n",
        "        print(f'=====================')\n",
        "\n",
        "class Player:\n",
        "    def __init__(self,player):\n",
        "        self.player = player\n",
        "\n",
        "b = Team()\n",
        "b.setName('Bangladesh')\n",
        "mashrafi = Player(\"Mashrafi\")\n",
        "b.addPlayer(mashrafi)\n",
        "tamim = Player(\"Tamim\")\n",
        "b.addPlayer(tamim)\n",
        "b.printDetail()\n",
        "a = Team(\"Australia\")\n",
        "ponting = Player(\"Ponting\")\n",
        "a.addPlayer(ponting)\n",
        "lee = Player(\"Lee\")\n",
        "a.addPlayer(lee)\n",
        "a.printDetail()        "
      ],
      "metadata": {
        "colab": {
          "base_uri": "https://localhost:8080/"
        },
        "id": "xlD7jKOXnl3m",
        "outputId": "81f4efec-a6c1-4c1f-e4a5-5e72786f7d08"
      },
      "execution_count": 13,
      "outputs": [
        {
          "output_type": "stream",
          "name": "stdout",
          "text": [
            "=====================\n",
            "Name: Bangladesh\n",
            "List of Players:\n",
            "['Mashrafi', 'Tamim']\n",
            "=====================\n",
            "=====================\n",
            "Name: Australia\n",
            "List of Players:\n",
            "['Ponting', 'Lee']\n",
            "=====================\n"
          ]
        }
      ]
    },
    {
      "cell_type": "markdown",
      "source": [
        "#4"
      ],
      "metadata": {
        "id": "Z18fu8K0vYPC"
      }
    },
    {
      "cell_type": "code",
      "source": [
        "class Color:\n",
        "    def __init__(self,color):\n",
        "        self.clr = color\n",
        "\n",
        "    def __add__(self,other):\n",
        "        main = self.clr + other.clr\n",
        "        \n",
        "        if main == 'redyellow' or main == 'yellowred':\n",
        "            return Color('Orange')\n",
        "        elif main == 'redblue' or main =='bluered':\n",
        "            return Color('Violet')\n",
        "        elif main == 'yellowblue' or main=='blueyellow':\n",
        "            return Color('Green')\n",
        "\n",
        "C1 = Color(input(\"First Color: \").lower())\n",
        "C2 = Color(input(\"Second Color: \").lower())\n",
        "C3 = C1 + C2\n",
        "print(\"Color formed:\", C3.clr)\n"
      ],
      "metadata": {
        "colab": {
          "base_uri": "https://localhost:8080/"
        },
        "id": "fG87jShivZXa",
        "outputId": "ca3e0f30-578c-43f2-cf0a-0dbdedb41578"
      },
      "execution_count": 18,
      "outputs": [
        {
          "output_type": "stream",
          "name": "stdout",
          "text": [
            "First Color: yellow\n",
            "Second Color: BLUE\n",
            "Color formed: Green\n"
          ]
        }
      ]
    },
    {
      "cell_type": "markdown",
      "source": [
        "#5"
      ],
      "metadata": {
        "id": "3aFfBxOD6hs6"
      }
    },
    {
      "cell_type": "code",
      "source": [
        "import math\n",
        "\n",
        "\n",
        "class Circle:\n",
        "    def __init__(self, r):\n",
        "        self.__radius = r\n",
        "\n",
        "    def getRadius(self):\n",
        "        return self.__radius\n",
        "    def setRadius(self,rad):\n",
        "        self.__radius=rad\n",
        "\n",
        "    def area(self):\n",
        "        return math.pi * self.__radius ** 2\n",
        "\n",
        "    def __add__(self, other):\n",
        "        b= Circle(self.__radius + other.__radius)\n",
        "        return b\n",
        "\n",
        "\n",
        "c1 = Circle(4)\n",
        "print(\"First circle radius:\", c1.getRadius())\n",
        "print(\"First circle area:\", c1.area())\n",
        "c2 = Circle(5)\n",
        "print(\"Second circle radius:\", c2.getRadius())\n",
        "print(\"Second circle area:\", c2.area())\n",
        "c3 = c1 + c2\n",
        "print(\"Third circle radius:\", c3.getRadius())\n",
        "print(\"Third circle area:\", c3.area())"
      ],
      "metadata": {
        "colab": {
          "base_uri": "https://localhost:8080/"
        },
        "id": "ox998QZD6jfo",
        "outputId": "b51692be-7e38-41c8-e1fd-e1454cb3b25a"
      },
      "execution_count": 19,
      "outputs": [
        {
          "output_type": "stream",
          "name": "stdout",
          "text": [
            "First circle radius: 4\n",
            "First circle area: 50.26548245743669\n",
            "Second circle radius: 5\n",
            "Second circle area: 78.53981633974483\n",
            "Third circle radius: 9\n",
            "Third circle area: 254.46900494077323\n"
          ]
        }
      ]
    },
    {
      "cell_type": "markdown",
      "source": [
        "#6"
      ],
      "metadata": {
        "id": "B5b-JFTZ-Q3j"
      }
    },
    {
      "cell_type": "code",
      "source": [
        "class Triangle:\n",
        "    def __init__(self,base,height):\n",
        "        self.__base = base\n",
        "        self.__height = height\n",
        "    def getBase(self):\n",
        "        return self.__base\n",
        "    def setBase(self, base):\n",
        "        self.__base = base\n",
        "    def getHeight(self):\n",
        "        return self.__height\n",
        "    def setHeight(self, height):\n",
        "        self.__height = height\n",
        "\n",
        "    def area(self):\n",
        "        return 0.5*self.__base*self.__height\n",
        "\n",
        "    def __sub__(self,other):\n",
        "        italy = self.getBase()- other.getBase()\n",
        "        france = self.getHeight()- other.getHeight()\n",
        "        return Triangle(italy,france)\n",
        "\n",
        "t1 = Triangle(10, 5)\n",
        "print(\"First Triangle Base:\" , t1.getBase())\n",
        "print(\"First Triangle Height:\" , t1.getHeight())\n",
        "print(\"First Triangle area:\" ,t1.area())\n",
        " \n",
        "t2 = Triangle(5, 3)\n",
        "print(\"Second Triangle Base:\" , t2.getBase())\n",
        "print(\"Second Triangle Height:\" , t2.getHeight())\n",
        "print(\"Second Triangle area:\" ,t2.area())\n",
        " \n",
        "t3 = t1 - t2 \n",
        "print(\"Third Triangle Base:\" , t3.getBase())\n",
        "print(\"Third Triangle Height:\" , t3.getHeight())\n",
        "print(\"Third Triangle area:\" ,t3.area()) \n"
      ],
      "metadata": {
        "colab": {
          "base_uri": "https://localhost:8080/"
        },
        "id": "PMlLkXEw-SLQ",
        "outputId": "d719d01b-0229-4e04-f29d-60ca65eff578"
      },
      "execution_count": 20,
      "outputs": [
        {
          "output_type": "stream",
          "name": "stdout",
          "text": [
            "First Triangle Base: 10\n",
            "First Triangle Height: 5\n",
            "First Triangle area: 25.0\n",
            "Second Triangle Base: 5\n",
            "Second Triangle Height: 3\n",
            "Second Triangle area: 7.5\n",
            "Third Triangle Base: 5\n",
            "Third Triangle Height: 2\n",
            "Third Triangle area: 5.0\n"
          ]
        }
      ]
    },
    {
      "cell_type": "markdown",
      "source": [
        "#7"
      ],
      "metadata": {
        "id": "Psob-UB3Gwah"
      }
    },
    {
      "cell_type": "code",
      "source": [
        "class Dolls:\n",
        "    def __init__(self, name,price):\n",
        "        self.name = name\n",
        "        self.price = price\n",
        "\n",
        "    def detail(self):\n",
        "        if self.price <=3000:\n",
        "            return f'Doll: {self.name}\\n Total Price: {self.price}'\n",
        "        else:\n",
        "            return f'Dolls: {self.name}\\n Total Price: {self.price}'\n",
        "\n",
        "    def __gt__(self,other):\n",
        "        if self.price>other.price:\n",
        "            return True\n",
        "        else:\n",
        "            return False\n",
        "\n",
        "    def __add__(self,other):\n",
        "        return Dolls((self.name+other.name),(self.price+other.price))\n",
        "\n",
        "\n",
        "obj_1 = Dolls(\"Tweety\", 2500)\n",
        "print(obj_1.detail())\n",
        "if obj_1 > obj_1:\n",
        "    print(\"Congratulations! You get the Tweety as a gift!\")\n",
        "else:\n",
        "    print(\"Thank you!\")\n",
        "\n",
        "print(\"=========================\")\n",
        "obj_2 = Dolls(\"Daffy Duck\", 1800) \n",
        "print(obj_2.detail())\n",
        "if obj_2 > obj_1:\n",
        "    print(\"Congratulations! You get the Tweety as a gift!\")\n",
        "else:\n",
        "    print(\"Thank you!\")\n",
        "\n",
        "print(\"=========================\")\n",
        "obj_3 = Dolls(\"Bugs Bunny\", 3000)\n",
        "print(obj_3.detail())\n",
        "if obj_3 > obj_1:\n",
        "    print(\"Congratulations! You get the Tweety as a gift!\")\n",
        "else:\n",
        "    print(\"Thank you!\")\n",
        "\n",
        "print(\"=========================\")\n",
        "obj_4 = Dolls(\"Porky Pig\", 1500)\n",
        "print(obj_4.detail())\n",
        "if obj_4 > obj_1:\n",
        "    print(\"Congratulations! You get the Tweety as a gift!\")\n",
        "else:\n",
        "    print(\"Thank you!\")\n",
        "\n",
        "print(\"=========================\")\n",
        "obj_5 = obj_2 + obj_3\n",
        "print(obj_5.detail())\n",
        "if obj_5 > obj_1:\n",
        "    print(\"Congratulations! You get the Tweety as a gift!\")\n",
        "else:\n",
        "    print(\"Thank you!\")"
      ],
      "metadata": {
        "colab": {
          "base_uri": "https://localhost:8080/"
        },
        "id": "luEKhVfDG2F9",
        "outputId": "de606877-1226-4833-8d63-8ea2f818fbfc"
      },
      "execution_count": 21,
      "outputs": [
        {
          "output_type": "stream",
          "name": "stdout",
          "text": [
            "Doll: Tweety\n",
            " Total Price: 2500\n",
            "Thank you!\n",
            "=========================\n",
            "Doll: Daffy Duck\n",
            " Total Price: 1800\n",
            "Thank you!\n",
            "=========================\n",
            "Doll: Bugs Bunny\n",
            " Total Price: 3000\n",
            "Congratulations! You get the Tweety as a gift!\n",
            "=========================\n",
            "Doll: Porky Pig\n",
            " Total Price: 1500\n",
            "Thank you!\n",
            "=========================\n",
            "Dolls: Daffy DuckBugs Bunny\n",
            " Total Price: 4800\n",
            "Congratulations! You get the Tweety as a gift!\n"
          ]
        }
      ]
    },
    {
      "cell_type": "markdown",
      "source": [
        "#8"
      ],
      "metadata": {
        "id": "orTfle87G6u0"
      }
    },
    {
      "cell_type": "code",
      "source": [
        "class Coordinates:\n",
        "    def __init__(self,val1,val2):\n",
        "        self.value1 = val1\n",
        "        self.value2 = val2\n",
        "    \n",
        "    def detail(self):\n",
        "        return (self.value1,self.value2)\n",
        "\n",
        "    def __sub__(self,other):\n",
        "        brazil = self.value1 - other.value1\n",
        "        argentina = self.value2 - other.value2\n",
        "        return Coordinates(brazil,argentina)\n",
        "    def __mul__(self,other):\n",
        "        france = self.value1*other.value1\n",
        "        italy = self.value2*other.value2\n",
        "        return Coordinates(france,italy)\n",
        "\n",
        "    def __eq__(self,main):\n",
        "        if self.value1 == main.value1:\n",
        "            return ('The calculated coordinates are the same.')\n",
        "        else:\n",
        "            return('The calculated coordinates are NOT the same.')\n",
        "\n",
        "p1 = Coordinates(int(input()),int(input()))\n",
        "p2 = Coordinates(int(input()),int(input()))\n",
        "\n",
        "p4 = p1 - p2 \n",
        "print(p4.detail())\n",
        "\n",
        "p5 = p1 * p2\n",
        "print(p5.detail())\n",
        "\n",
        "point_check = (p4 == p5)\n",
        "print(point_check)"
      ],
      "metadata": {
        "colab": {
          "base_uri": "https://localhost:8080/"
        },
        "id": "p1vPYVs_G-8e",
        "outputId": "f72dd0bf-a910-4da0-a54a-27d10d554813"
      },
      "execution_count": 24,
      "outputs": [
        {
          "output_type": "stream",
          "name": "stdout",
          "text": [
            "0\n",
            "0\n",
            "0\n",
            "0\n",
            "(0, 0)\n",
            "(0, 0)\n",
            "The calculated coordinates are the same.\n"
          ]
        }
      ]
    }
  ]
}