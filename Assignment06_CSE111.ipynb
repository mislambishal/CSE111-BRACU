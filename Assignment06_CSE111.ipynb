{
  "nbformat": 4,
  "nbformat_minor": 0,
  "metadata": {
    "colab": {
      "provenance": []
    },
    "kernelspec": {
      "name": "python3",
      "display_name": "Python 3"
    },
    "language_info": {
      "name": "python"
    }
  },
  "cells": [
    {
      "cell_type": "markdown",
      "source": [
        "#1"
      ],
      "metadata": {
        "id": "28_WwmHmgiXD"
      }
    },
    {
      "cell_type": "code",
      "source": [
        "class Student:\n",
        "    id = 0\n",
        "    def __init__(self,name,dept,age,cgpa):\n",
        "        self.name = name\n",
        "        self.department = dept\n",
        "        self.age = age\n",
        "        self.cgpa = cgpa\n",
        "        Student.id +=1\n",
        "\n",
        "\n",
        "\n",
        "    def showDetails(self):\n",
        "        print(f'ID: {Student.id}')\n",
        "        print(f'Name: {self.name}')\n",
        "        print(f'Department: {self.department}')\n",
        "        print(f'Age: {self.age}')\n",
        "        print(f'CGPA: {self.cgpa}')\n",
        "\n",
        "    @classmethod\n",
        "    def from_String(cls,value):\n",
        "        a = value.split('-')\n",
        "        return cls(a[0],a[1],a[2],a[3])\n",
        "\n",
        "s1 = Student(\"Samin\", \"CSE\", 21, 3.91)\n",
        "s1.showDetails()\n",
        "print(\"-----------------------\")\n",
        "s2 = Student(\"Fahim\", \"ECE\", 21, 3.85)\n",
        "s2.showDetails()\n",
        "print(\"-----------------------\")\n",
        "s3 = Student(\"Tahura\", \"EEE\", 22, 3.01)\n",
        "s3.showDetails() \n",
        "print(\"-----------------------\")\n",
        "s4 = Student.from_String(\"Sumaiya-BBA-23-3.96\")\n",
        "s4.showDetails()"
      ],
      "metadata": {
        "id": "5ib0R8yqgkAm",
        "colab": {
          "base_uri": "https://localhost:8080/"
        },
        "outputId": "01f32e29-1069-4c0e-e53d-33e85e5d8e78"
      },
      "execution_count": null,
      "outputs": [
        {
          "output_type": "stream",
          "name": "stdout",
          "text": [
            "ID: 1\n",
            "Name: Samin\n",
            "Department: CSE\n",
            "Age: 21\n",
            "CGPA: 3.91\n",
            "-----------------------\n",
            "ID: 2\n",
            "Name: Fahim\n",
            "Department: ECE\n",
            "Age: 21\n",
            "CGPA: 3.85\n",
            "-----------------------\n",
            "ID: 3\n",
            "Name: Tahura\n",
            "Department: EEE\n",
            "Age: 22\n",
            "CGPA: 3.01\n",
            "-----------------------\n",
            "ID: 4\n",
            "Name: Sumaiya\n",
            "Department: BBA\n",
            "Age: 23\n",
            "CGPA: 3.96\n"
          ]
        }
      ]
    },
    {
      "cell_type": "markdown",
      "source": [
        "#2"
      ],
      "metadata": {
        "id": "28ZuDsNqfo5A"
      }
    },
    {
      "cell_type": "code",
      "source": [
        "class Assassin:\n",
        "    number_of_assaissin = 0\n",
        "    def __init__(self, name,rate):\n",
        "        self.name = name\n",
        "        self.rate = rate\n",
        "        Assassin.number_of_assaissin +=1\n",
        "\n",
        "    def printDetails(self):\n",
        "        print(f'Name: {self.name}')\n",
        "        print(f'Success rate: {self.rate}%')\n",
        "        print(f'Total number of Assassin: {Assassin.number_of_assaissin}')\n",
        "\n",
        "    @classmethod\n",
        "    def failureRate(cls,name,rate):\n",
        "        success_rate = 100- rate\n",
        "        return cls(name, success_rate)\n",
        "    \n",
        "    @classmethod\n",
        "    def failurePercentage(cls,name, rate):\n",
        "        cls.name = name\n",
        "        a = rate.strip('%')\n",
        "        main = int(a)\n",
        "        success = 100 - main\n",
        "        return cls(name,success)\n",
        "\n",
        "john_wick = Assassin('John Wick', 100)\n",
        "john_wick.printDetails()\n",
        "print('================================')\n",
        "nagisa = Assassin.failureRate(\"Nagisa\", 20)\n",
        "nagisa.printDetails()\n",
        "print('================================')\n",
        "akabane = Assassin.failurePercentage(\"Akabane\", \"10%\")\n",
        "akabane.printDetails()\n"
      ],
      "metadata": {
        "colab": {
          "base_uri": "https://localhost:8080/"
        },
        "id": "VIrjcqrZfp63",
        "outputId": "5261a7aa-5f86-4671-f3e1-f4de79adf719"
      },
      "execution_count": null,
      "outputs": [
        {
          "output_type": "stream",
          "name": "stdout",
          "text": [
            "Name: John Wick\n",
            "Success rate: 100%\n",
            "Total number of Assassin: 1\n",
            "================================\n",
            "Name: Nagisa\n",
            "Success rate: 80%\n",
            "Total number of Assassin: 2\n",
            "================================\n",
            "Name: Akabane\n",
            "Success rate: 90%\n",
            "Total number of Assassin: 3\n"
          ]
        }
      ]
    },
    {
      "cell_type": "markdown",
      "source": [
        "#3"
      ],
      "metadata": {
        "id": "nXMG_wnY0VN0"
      }
    },
    {
      "cell_type": "code",
      "source": [
        "class Passenger:\n",
        "    count = 0\n",
        "    fare = 450\n",
        "    def __init__(self,name):\n",
        "        self.name = name\n",
        "        Passenger.count+=1\n",
        "    def set_bag_weight(self,w):\n",
        "        self.weight = w\n",
        "        if self.weight <=20:\n",
        "            self.fare = Passenger.fare\n",
        "        elif 21<=self.weight<=50:\n",
        "            self.fare = Passenger.fare+50\n",
        "        else:\n",
        "            self.fare = Passenger.fare + 100\n",
        "\n",
        "    def printDetail(self):\n",
        "        print(f'Name: {self.name}')\n",
        "        print(f'Bus Fare: {self.fare} taka')\n",
        "        return Passenger.count\n",
        "print('Total Passenger:', Passenger.count)\n",
        "p1 = Passenger(\"Jack\")\n",
        "p1.set_bag_weight(90)\n",
        "p2 = Passenger(\"Carol\")\n",
        "p2.set_bag_weight(10)\n",
        "p3 = Passenger(\"Mike\")\n",
        "p3.set_bag_weight(25)\n",
        "print(\"=========================\")\n",
        "p1.printDetail()\n",
        "print(\"=========================\")\n",
        "p2.printDetail()\n",
        "print(\"=========================\")\n",
        "p3.printDetail()\n",
        "print(\"=========================\")\n",
        "print(\"Total Passenger:\", Passenger.count)\n",
        "\n"
      ],
      "metadata": {
        "colab": {
          "base_uri": "https://localhost:8080/"
        },
        "id": "ZqIXRcKV0WW_",
        "outputId": "2eb6da91-dc1a-4bc7-9e6d-50bc3bdc5f10"
      },
      "execution_count": null,
      "outputs": [
        {
          "output_type": "stream",
          "name": "stdout",
          "text": [
            "Total Passenger: 0\n",
            "=========================\n",
            "Name: Jack\n",
            "Bus Fare: 550 taka\n",
            "=========================\n",
            "Name: Carol\n",
            "Bus Fare: 450 taka\n",
            "=========================\n",
            "Name: Mike\n",
            "Bus Fare: 500 taka\n",
            "=========================\n",
            "Total Passenger: 3\n"
          ]
        }
      ]
    },
    {
      "cell_type": "markdown",
      "source": [
        "#4"
      ],
      "metadata": {
        "id": "-XetuYpq38FC"
      }
    },
    {
      "cell_type": "code",
      "source": [
        "class Travel:\n",
        "    count = 0\n",
        "    time = 1\n",
        "    def __init__(self,place1,place2):\n",
        "        self.__source = place1\n",
        "        self.__destination = place2\n",
        "        Travel.count +=1\n",
        "\n",
        "    def set_time(self,time = None):\n",
        "        if self.__time == None:\n",
        "            self.__time = Travel.time\n",
        "        else:\n",
        "            self.__time = time\n",
        "\n",
        "    def set_destination(self,other):\n",
        "        self.__destination = other\n",
        "\n",
        "    def set_source(self,other):\n",
        "        self.__source = other\n",
        "\n",
        "    def display_travel_info(self):\n",
        "        return (f'Source: {self.__source}\\nDestination: {self.__destination}\\nFlight Time: {self.__time}:00')\n",
        "\n",
        "print(\"No. of Traveller =\", Travel.count)\n",
        "print(\"=======================\")\n",
        "t1 = Travel(\"Dhaka\",\"India\")\n",
        "print(t1.display_travel_info())\n",
        "print(\"=======================\")\n",
        "t2 = Travel(\"Kuala Lampur\",\"Dhaka\")\n",
        "t2.set_time(23)\n",
        "print(t2.display_travel_info())\n",
        "print(\"=======================\")\n",
        "t3 = Travel(\"Dhaka\",\"New_Zealand\")\n",
        "t3.set_time(15)\n",
        "t3.set_destination(\"Germany\")\n",
        "print(t3.display_travel_info())\n",
        "print(\"=======================\")\n",
        "t4 = Travel(\"Dhaka\",\"India\")\n",
        "t4.set_time(9)\n",
        "t4.set_source(\"Malaysia\")\n",
        "t4.set_destination(\"Canada\")\n",
        "print(t4.display_travel_info())\n",
        "print(\"=======================\")\n",
        "print(\"No. of Traveller =\", Travel.count)"
      ],
      "metadata": {
        "colab": {
          "base_uri": "https://localhost:8080/"
        },
        "id": "u8cBGwDe3-f8",
        "outputId": "6fd5b939-65bf-4be7-a0b2-32d6938832d3"
      },
      "execution_count": null,
      "outputs": [
        {
          "output_type": "stream",
          "name": "stdout",
          "text": [
            "No. of Traveller = 0\n",
            "=======================\n",
            "Source: Dhaka\n",
            "Destination: India\n",
            "Flight Time: 1:00\n",
            "=======================\n",
            "Source: Kuala Lampur\n",
            "Destination: Dhaka\n",
            "Flight Time: 23:00\n",
            "=======================\n",
            "Source: Dhaka\n",
            "Destination: Germany\n",
            "Flight Time: 15:00\n",
            "=======================\n",
            "Source: Malaysia\n",
            "Destination: Canada\n",
            "Flight Time: 9:00\n",
            "=======================\n",
            "No. of Traveller = 4\n"
          ]
        }
      ]
    },
    {
      "cell_type": "markdown",
      "source": [
        "#5"
      ],
      "metadata": {
        "id": "FoG4QKWL-wCI"
      }
    },
    {
      "cell_type": "code",
      "source": [
        "from datetime import date\n",
        "class Employee:\n",
        "    \n",
        "    def __init__(self,name,time):\n",
        "        self.name = name\n",
        "        self.workingPeriod = time\n",
        "\n",
        "    @staticmethod\n",
        "    def experienceCheck(a,b):\n",
        "        if a>=3 and b == 'male':\n",
        "            return f'He is experienced'\n",
        "        elif a>=3 and b == 'female':\n",
        "            return f'She is experienced'\n",
        "        elif a<3 and b == 'male':\n",
        "            return f'He is not experienced'\n",
        "        elif a<3 and b == 'female':\n",
        "            return f'She is not experienced'\n",
        "    \n",
        "    @classmethod\n",
        "    def employeeByJoiningYear(cls,a,b):\n",
        "        \n",
        "        return cls(a,date.today().year-b)\n",
        "\n",
        "employee1 = Employee('Dororo', 3)\n",
        "employee2 = Employee.employeeByJoiningYear('Harry', 2016)\n",
        "print(employee1.workingPeriod)\n",
        "print(employee2.workingPeriod)\n",
        "print(employee1.name)\n",
        "print(employee2.name)\n",
        "print(Employee.experienceCheck(2, \"male\"))\n",
        "print(Employee.experienceCheck(3, \"female\"))"
      ],
      "metadata": {
        "colab": {
          "base_uri": "https://localhost:8080/"
        },
        "id": "KlT3vmiY-x7H",
        "outputId": "f3e637dd-de3d-4902-c62e-2f650e8b17d8"
      },
      "execution_count": null,
      "outputs": [
        {
          "output_type": "stream",
          "name": "stdout",
          "text": [
            "3\n",
            "6\n",
            "Dororo\n",
            "Harry\n",
            "He is not experienced\n",
            "She is experienced\n"
          ]
        }
      ]
    },
    {
      "cell_type": "markdown",
      "source": [
        "#6"
      ],
      "metadata": {
        "id": "sOJiq95CC8_c"
      }
    },
    {
      "cell_type": "code",
      "source": [
        "class Laptop:\n",
        "    laptopCount = 0\n",
        "    \n",
        "    def __init__(self, name,count):\n",
        "        self.name = name\n",
        "        self.count = count\n",
        "        Laptop.laptopCount += self.count\n",
        "    @classmethod\n",
        "    def advantage(cls):\n",
        "        print('Laptops are portable')\n",
        "\n",
        "    @classmethod\n",
        "    def resetCount(cls):\n",
        "        Laptop.laptopCount = 0\n",
        "\n",
        "\n",
        "lenovo = Laptop(\"Lenovo\", 5);\n",
        "dell = Laptop(\"Dell\", 7);\n",
        "print(lenovo.name, lenovo.count)\n",
        "print(dell.name, dell.count)\n",
        "print(\"Total number of Laptops\", Laptop.laptopCount)\n",
        "Laptop.advantage()\n",
        "Laptop.resetCount()\n",
        "print(\"Total number of Laptops\", Laptop.laptopCount)"
      ],
      "metadata": {
        "colab": {
          "base_uri": "https://localhost:8080/"
        },
        "id": "iqkhawQxC_Ot",
        "outputId": "2c118c41-3e8b-491e-c1be-156e8b1ac91e"
      },
      "execution_count": null,
      "outputs": [
        {
          "output_type": "stream",
          "name": "stdout",
          "text": [
            "Lenovo 5\n",
            "Dell 7\n",
            "Total number of Laptops 12\n",
            "Laptops are portable\n",
            "Total number of Laptops 0\n"
          ]
        }
      ]
    },
    {
      "cell_type": "markdown",
      "source": [
        "#7"
      ],
      "metadata": {
        "id": "_zJVf-46hH8W"
      }
    },
    {
      "cell_type": "code",
      "source": [
        "class Cat:\n",
        "    Number_of_cats = 0\n",
        "    def __init__(self,color,action):\n",
        "        self.color = color\n",
        "        self.action = action\n",
        "        Cat.Number_of_cats +=1\n",
        "    @classmethod\n",
        "    def no_parameter(cls):\n",
        "        color = 'white'\n",
        "        action = 'sitting'\n",
        "        return cls(color,action)\n",
        "\n",
        "    @classmethod\n",
        "    def first_parameter(cls,color):\n",
        "        action = 'sitting'\n",
        "        return cls(color,action)\n",
        "    @classmethod\n",
        "    def second_parameter(cls,action):\n",
        "        color = 'Grey'\n",
        "        return cls(color,action)\n",
        "    def printCat(self):\n",
        "        print(f'{self.color} cat is {self.action}')\n",
        "\n",
        "\n",
        "    def changeColor(self,other):\n",
        "        self.color = other\n",
        "\n",
        "print(\"Total number of cats:\", Cat.Number_of_cats)\n",
        "c1 = Cat.no_parameter()\n",
        "c2 = Cat.first_parameter(\"Black\")\n",
        "c3 = Cat(\"Brown\", \"jumping\")\n",
        "c4 = Cat(\"Red\", \"purring\")\n",
        "c5 = Cat.second_parameter(\"playing\")\n",
        "print(\"=======================\")\n",
        "c1.printCat()\n",
        "c2.printCat()\n",
        "c3.printCat()\n",
        "c4.printCat()\n",
        "c5.printCat()\n",
        "c1.changeColor(\"Blue\")\n",
        "c3.changeColor(\"Purple\")\n",
        "c1.printCat()\n",
        "c3.printCat()\n",
        "print(\"=======================\")\n",
        "print(\"Total number of cats:\", Cat.Number_of_cats)"
      ],
      "metadata": {
        "colab": {
          "base_uri": "https://localhost:8080/"
        },
        "id": "WNh_1vm3hI_F",
        "outputId": "0d8d28f3-6c6d-41c0-e579-ad4493570e5f"
      },
      "execution_count": null,
      "outputs": [
        {
          "output_type": "stream",
          "name": "stdout",
          "text": [
            "Total number of cats: 0\n",
            "=======================\n",
            "white cat is sitting\n",
            "Black cat is sitting\n",
            "Brown cat is jumping\n",
            "Red cat is purring\n",
            "Grey cat is playing\n",
            "Blue cat is sitting\n",
            "Purple cat is jumping\n",
            "=======================\n",
            "Total number of cats: 5\n"
          ]
        }
      ]
    },
    {
      "cell_type": "markdown",
      "source": [
        "#8"
      ],
      "metadata": {
        "id": "j4UHkJsdAauD"
      }
    },
    {
      "cell_type": "code",
      "source": [
        "import math\n",
        "\n",
        "class Cylinder:\n",
        "    radius = 5\n",
        "    height = 18\n",
        "    def __init__(self,var1,var2):\n",
        "\n",
        "        print(f'Default radius={Cylinder.radius} and height=1{Cylinder.height}.')\n",
        "        Cylinder.radius = var1\n",
        "        Cylinder.height =var2\n",
        "        print(f'Updated: radius={self.radius} and height={self.height}.')\n",
        "    @staticmethod\n",
        "    def area(a,b):\n",
        "        print(f'Area = {2*math.pi*a**2 + 2*math.pi*b}')\n",
        "\n",
        "    @staticmethod\n",
        "    def volume(a,b):\n",
        "        print(f'Volume = {math.pi*a**2*b}')\n",
        "\n",
        "    @classmethod\n",
        "    def swap(cls,b,a):\n",
        "        cls.radius = a\n",
        "        cls.height = b\n",
        "        return Cylinder(cls.radius,cls.height)\n",
        "\n",
        "    @classmethod\n",
        "    def changeFormat(cls,base):\n",
        "        main = base.split('-')\n",
        "        cls.radius = int(main[0])\n",
        "        cls.height = int(main[1])\n",
        "        return Cylinder(cls.radius,cls.height)\n",
        "\n",
        "c1 = Cylinder(0,0)\n",
        "Cylinder.area(c1.radius,c1.height)\n",
        "Cylinder.volume(c1.radius,c1.height)\n",
        "print(\"===============================\")\n",
        "c2 = Cylinder.swap(8,3)\n",
        "c2.area(c2.radius,c2.height)\n",
        "c2.volume(c2.radius,c2.height)\n",
        "print(\"===============================\")\n",
        "c3 = Cylinder.changeFormat(\"7-13\")\n",
        "c3.area(c3.radius,c3.height)\n",
        "c3.volume(c3.radius,c3.height)\n",
        "print(\"===============================\")\n",
        "Cylinder(0.3,5.56).area(Cylinder.radius,Cylinder.height)\n",
        "print(\"===============================\")\n",
        "Cylinder(3,5).volume(Cylinder.radius,Cylinder.height)"
      ],
      "metadata": {
        "colab": {
          "base_uri": "https://localhost:8080/"
        },
        "id": "3mx1jJw5BXhi",
        "outputId": "f29e745f-f74e-44a3-a626-75d0bab50132"
      },
      "execution_count": null,
      "outputs": [
        {
          "output_type": "stream",
          "name": "stdout",
          "text": [
            "Default radius=5 and height=118.\n",
            "Updated: radius=0 and height=0.\n",
            "Area = 0.0\n",
            "Volume = 0.0\n",
            "===============================\n",
            "Default radius=3 and height=18.\n",
            "Updated: radius=3 and height=8.\n",
            "Area = 106.81415022205297\n",
            "Volume = 226.1946710584651\n",
            "===============================\n",
            "Default radius=7 and height=113.\n",
            "Updated: radius=7 and height=13.\n",
            "Area = 389.55748904513433\n",
            "Volume = 2001.1945203366981\n",
            "===============================\n",
            "Default radius=7 and height=113.\n",
            "Updated: radius=0.3 and height=5.56.\n",
            "Area = 35.49999698556466\n",
            "===============================\n",
            "Default radius=0.3 and height=15.56.\n",
            "Updated: radius=3 and height=5.\n",
            "Volume = 141.3716694115407\n"
          ]
        }
      ]
    },
    {
      "cell_type": "markdown",
      "source": [
        "#9"
      ],
      "metadata": {
        "id": "oBQT1uk9lxuY"
      }
    },
    {
      "cell_type": "code",
      "source": [
        "from typing_extensions import Self\n",
        "class Student:\n",
        "    total = 0\n",
        "    total_bracu = 0\n",
        "    total_other = 0\n",
        "    \n",
        "    def __init__(self, name, dept, ins = 'BRAC University'):\n",
        "        self.name = name\n",
        "        self.department = dept\n",
        "        self.institute = ins\n",
        "        if self.institute == 'BRAC University':\n",
        "            Student.total_bracu+=1\n",
        "        else:\n",
        "            Student.total_other+=1\n",
        "        Student.total +=1\n",
        "\n",
        "    def individualDetail(self):\n",
        "        print(f'Name: {self.name}')\n",
        "        print(f'Department: {self.department}')\n",
        "        print(f'Institution: {self.institute}')\n",
        "\n",
        "    @classmethod\n",
        "    def printDetails(cls):\n",
        "        print(f'Total Student(s): {Student.total}')\n",
        "        print(f'BRAC University Student(s): {Student.total_bracu}')\n",
        "        print(f'Other Institution Student(s): {Student.total_other}')\n",
        "\n",
        "    @classmethod\n",
        "    def createStudent(cls,name,dept,ins = 'None'):\n",
        "        if ins == \"None\":\n",
        "            return cls(name,dept)\n",
        "        else:\n",
        "            return cls(name,dept,ins)\n",
        "\n",
        "Student.printDetails()\n",
        "print('#########################')\n",
        "\n",
        "mikasa = Student('Mikasa Ackerman', \"CSE\")\n",
        "mikasa.individualDetail()\n",
        "print('------------------------------------------')\n",
        "Student.printDetails()\n",
        "\n",
        "print('========================')\n",
        "\n",
        "harry = Student.createStudent('Harry Potter', \"Defence Against Dark Arts\", \"Hogwarts School\")\n",
        "harry.individualDetail()\n",
        "print('-------------------------------------------')\n",
        "Student.printDetails()\n",
        "\n",
        "print('=========================')\n",
        "\n",
        "levi = Student.createStudent(\"Levi Ackerman\", \"CSE\")\n",
        "levi.individualDetail()\n",
        "print('--------------------------------------------')\n",
        "Student.printDetails()"
      ],
      "metadata": {
        "colab": {
          "base_uri": "https://localhost:8080/"
        },
        "id": "WBwlOgPyly6f",
        "outputId": "84f4316e-d4ac-4d88-baef-867d7079cc2c"
      },
      "execution_count": null,
      "outputs": [
        {
          "output_type": "stream",
          "name": "stdout",
          "text": [
            "Total Student(s): 0\n",
            "BRAC University Student(s): 0\n",
            "Other Institution Student(s): 0\n",
            "#########################\n",
            "Name: Mikasa Ackerman\n",
            "Department: CSE\n",
            "Institution: BRAC University\n",
            "------------------------------------------\n",
            "Total Student(s): 1\n",
            "BRAC University Student(s): 1\n",
            "Other Institution Student(s): 0\n",
            "========================\n",
            "Name: Harry Potter\n",
            "Department: Defence Against Dark Arts\n",
            "Institution: Hogwarts School\n",
            "-------------------------------------------\n",
            "Total Student(s): 2\n",
            "BRAC University Student(s): 1\n",
            "Other Institution Student(s): 1\n",
            "=========================\n",
            "Name: Levi Ackerman\n",
            "Department: CSE\n",
            "Institution: BRAC University\n",
            "--------------------------------------------\n",
            "Total Student(s): 3\n",
            "BRAC University Student(s): 2\n",
            "Other Institution Student(s): 1\n"
          ]
        }
      ]
    },
    {
      "cell_type": "markdown",
      "source": [
        "#10"
      ],
      "metadata": {
        "id": "BlXUwauAqqXg"
      }
    },
    {
      "cell_type": "code",
      "source": [
        "class SultansDine:\n",
        "    branch = 0\n",
        "    sell = 0\n",
        "    info = []\n",
        "    def __init__(self,location):\n",
        "        self.location = location\n",
        "        SultansDine.branch +=1\n",
        "    \n",
        "    def sellQuantity(self,quantity):\n",
        "        self.quantity = quantity\n",
        "        if self.quantity <10:\n",
        "            self.sell = self.quantity * 300\n",
        "        elif self.quantity <20:\n",
        "            self.sell = self.quantity * 350\n",
        "        else:\n",
        "            self.sell = self.quantity * 400\n",
        "        \n",
        "        SultansDine.sell += self.sell\n",
        "\n",
        "\n",
        "    def branchInformation(self):\n",
        "        print(f'Branch Name: {self.location}')\n",
        "        print(f'Branch Sell: {SultansDine.sell} Taka')\n",
        "        SultansDine.info.append(self.location)\n",
        "        SultansDine.info.append(self.sell)\n",
        "\n",
        "    @classmethod\n",
        "    def details(cls):\n",
        "        print(f\"Total Number of branch(s): {cls.branch}\")\n",
        "        print(f\"Total Sell: {cls.sell}\")\n",
        "\n",
        "        for index in range(0, len(SultansDine.info), 2):\n",
        "            print(f\"Branch Name: {SultansDine.info[index]}, Branch Sell: {SultansDine.info[index + 1]} Taka\")\n",
        "            print(f\"Branch consists of total sell's: {(SultansDine.info[index + 1] / SultansDine.sell) * 100:.2f}%\")\n",
        "        \n",
        "SultansDine.details()\n",
        "print('########################')\n",
        "dhanmodi = SultansDine('Dhanmondi')\n",
        "dhanmodi.sellQuantity(25)\n",
        "dhanmodi.branchInformation()\n",
        "print('-----------------------------------------')\n",
        "SultansDine.details()\n",
        "\n",
        "print('========================')\n",
        "\n",
        "baily_road = SultansDine('Baily Road')\n",
        "baily_road.sellQuantity(15)\n",
        "baily_road.branchInformation()\n",
        "print('-----------------------------------------')\n",
        "SultansDine.details()\n",
        "\n",
        "print('========================')\n",
        "\n",
        "gulshan = SultansDine('Gulshan')\n",
        "gulshan.sellQuantity(9)\n",
        "gulshan.branchInformation()\n",
        "print('-----------------------------------------')\n",
        "SultansDine.details()\n"
      ],
      "metadata": {
        "id": "RlE7yW4qqtav",
        "colab": {
          "base_uri": "https://localhost:8080/"
        },
        "outputId": "0a9feed6-3e36-45e5-f6c8-4d69cf93d089"
      },
      "execution_count": 5,
      "outputs": [
        {
          "output_type": "stream",
          "name": "stdout",
          "text": [
            "Total Number of branch(s): 0\n",
            "Total Sell: 0\n",
            "########################\n",
            "Branch Name: Dhanmondi\n",
            "Branch Sell: 10000 Taka\n",
            "-----------------------------------------\n",
            "Total Number of branch(s): 1\n",
            "Total Sell: 10000\n",
            "Branch Name: Dhanmondi, Branch Sell: 10000 Taka\n",
            "Branch consists of total sell's: 100.00%\n",
            "========================\n",
            "Branch Name: Baily Road\n",
            "Branch Sell: 15250 Taka\n",
            "-----------------------------------------\n",
            "Total Number of branch(s): 2\n",
            "Total Sell: 15250\n",
            "Branch Name: Dhanmondi, Branch Sell: 10000 Taka\n",
            "Branch consists of total sell's: 65.57%\n",
            "Branch Name: Baily Road, Branch Sell: 5250 Taka\n",
            "Branch consists of total sell's: 34.43%\n",
            "========================\n",
            "Branch Name: Gulshan\n",
            "Branch Sell: 17950 Taka\n",
            "-----------------------------------------\n",
            "Total Number of branch(s): 3\n",
            "Total Sell: 17950\n",
            "Branch Name: Dhanmondi, Branch Sell: 10000 Taka\n",
            "Branch consists of total sell's: 55.71%\n",
            "Branch Name: Baily Road, Branch Sell: 5250 Taka\n",
            "Branch consists of total sell's: 29.25%\n",
            "Branch Name: Gulshan, Branch Sell: 2700 Taka\n",
            "Branch consists of total sell's: 15.04%\n"
          ]
        }
      ]
    },
    {
      "cell_type": "markdown",
      "source": [
        "#11"
      ],
      "metadata": {
        "id": "3QCnV7qPgc4_"
      }
    },
    {
      "cell_type": "code",
      "execution_count": null,
      "metadata": {
        "colab": {
          "base_uri": "https://localhost:8080/"
        },
        "id": "mCH3UQ3YaMz3",
        "outputId": "4a771bc6-87e9-4868-8141-55318948fce8"
      },
      "outputs": [
        {
          "output_type": "stream",
          "name": "stdout",
          "text": [
            "10 5\n",
            "10 18\n",
            "30 20\n",
            "30 63\n",
            "31 64\n",
            "30 63\n",
            "10 5\n",
            "10 18\n",
            "30 20\n",
            "30 63\n",
            "31 64\n",
            "30 63\n",
            "10 5\n",
            "10 18\n",
            "30 20\n",
            "30 63\n",
            "31 64\n",
            "30 63\n",
            "37 7\n"
          ]
        },
        {
          "output_type": "execute_result",
          "data": {
            "text/plain": [
              "40"
            ]
          },
          "metadata": {},
          "execution_count": 2
        }
      ],
      "source": [
        "class Puzzle:\n",
        "    x = 0\n",
        "    def methodA(self):\n",
        "        Puzzle.x = 5 \n",
        "        z = Puzzle.x + self.methodB(Puzzle.x)\n",
        "        print(Puzzle.x, z)\n",
        "        z = self.methodB(z + 2) + Puzzle.x\n",
        "        print(Puzzle.x, z)\n",
        "        self.methodB(Puzzle.x, z)\n",
        "        print(Puzzle.x, z)\n",
        "    def methodB(self, *args):\n",
        "        if len(args) == 1:\n",
        "            y = args[0]\n",
        "            Puzzle.x = y + Puzzle.x\n",
        "            print(Puzzle.x, y)\n",
        "            return Puzzle.x + 3\n",
        "        else:\n",
        "            z, x = args\n",
        "            z = z + 1\n",
        "            x = x + 1\n",
        "            print(z, x)\n",
        "p = Puzzle()\n",
        "p.methodA()\n",
        "p.methodA()\n",
        "p = Puzzle()\n",
        "p.methodA()\n",
        "p.methodB(7)"
      ]
    },
    {
      "cell_type": "markdown",
      "source": [
        "#12"
      ],
      "metadata": {
        "id": "lYfsp5PytTfk"
      }
    },
    {
      "cell_type": "code",
      "source": [
        "class FinalT6A:\n",
        "    temp = 3\n",
        " \n",
        "    def __init__(self, x, p):\n",
        "        self.sum, self.y = 0, 2\n",
        "        FinalT6A.temp += 3\n",
        "        self.y = self.temp - p\n",
        "        self.sum = self.temp + x\n",
        "        print(x, self.y, self.sum)\n",
        "    \n",
        "    def methodA(self):\n",
        "        x, y = 0, 0\n",
        "        y = y + self.y\n",
        "        x = self.y + 2 + self.temp\n",
        "        self.sum = x + y + self.methodB(self.temp, y)\n",
        "        print(x, y, self.sum)\n",
        "    \n",
        "    def methodB(self, temp, n):\n",
        "        x = 0\n",
        "        FinalT6A.temp += 1\n",
        "        self.y = self.y + (FinalT6A.temp)\n",
        "        FinalT6A.temp -= 1\n",
        "        x = x + 2 + n\n",
        "        self.sum = self.sum + x + self.y\n",
        "        print(x, self.y, self.sum)\n",
        "        return self.sum\n",
        "\n",
        "q1 = FinalT6A(2,1)\n",
        "q1.methodA()\n",
        "q1.methodA()"
      ],
      "metadata": {
        "colab": {
          "base_uri": "https://localhost:8080/"
        },
        "id": "1807K4tXtUkR",
        "outputId": "53c2e235-7202-484d-c34a-4118f2493efe"
      },
      "execution_count": null,
      "outputs": [
        {
          "output_type": "stream",
          "name": "stdout",
          "text": [
            "2 5 8\n",
            "7 12 27\n",
            "13 5 45\n",
            "14 19 78\n",
            "20 12 110\n"
          ]
        }
      ]
    },
    {
      "cell_type": "markdown",
      "source": [
        "#14"
      ],
      "metadata": {
        "id": "7gbeowopyG3j"
      }
    },
    {
      "cell_type": "code",
      "source": [
        "class msgClass:\n",
        "    def __init__(self):\n",
        "        self.content = 0\n",
        " \n",
        "class Quiz3:\n",
        "    x = 0\n",
        "    def __init__(self, k = None):\n",
        "        self.sum, self.y = 0, 0\n",
        "        if k is None:\n",
        "            self.sum = 5\n",
        "            Quiz3.x = 2\n",
        "            self.y = 2\n",
        "        else:\n",
        "            self.sum = self.sum + k\n",
        "            self.y = 3\n",
        "            Quiz3.x += 2    \n",
        "    def methodA(self):\n",
        "        x = 1\n",
        "        y = 1\n",
        "        msg = [None]\n",
        "        myMsg = msgClass()\n",
        "        myMsg.content = Quiz3.x\n",
        "        msg[0] = myMsg\n",
        "        msg[0].content = self.y + myMsg.content\n",
        "        self.y = self.y + self.methodB(msg[0])\n",
        "        y = self.methodB(msg[0]) + self.y\n",
        "        x = y + self.methodB(msg, msg[0])\n",
        "        self.sum = x + y + msg[0].content\n",
        "        print(x, y, self.sum)\n",
        "    def methodB(self, *args):\n",
        "        if len(args) == 2:\n",
        "            mg2, mg1 = args\n",
        "            x = 2\n",
        "            self.y = self.y + mg2[0].content\n",
        "            mg2[0].content = self.y + mg1.content\n",
        "            x = x + 2 + mg1.content\n",
        "            self.sum = self.sum + x + self.y\n",
        "            mg1.content = self.sum - mg2[0].content\n",
        "            print(Quiz3.x, self.y, self.sum)\n",
        "            return self.sum\n",
        "        \n",
        "        elif len(args) == 1:\n",
        "            mg1, = args\n",
        "            x = 1\n",
        "            y = 2\n",
        "            y = self.sum + mg1.content\n",
        "            self.y = y + mg1.content\n",
        "            x = Quiz3.x + 5 + mg1.content\n",
        "            self.sum = self.sum + x + y\n",
        "            Quiz3.x = mg1.content + x + 3\n",
        "            print(x, y, self.sum)\n",
        "            return y\n",
        "\n",
        "a1 = Quiz3()\n",
        "a2 = Quiz3(5)\n",
        "msg = msgClass()\n",
        "a1.methodA()\n",
        "a2.methodB(msg)\n"
      ],
      "metadata": {
        "colab": {
          "base_uri": "https://localhost:8080/"
        },
        "id": "X2H8D4JvyIIl",
        "outputId": "89ae5372-6968-441d-9578-b571db5a37de"
      },
      "execution_count": null,
      "outputs": [
        {
          "output_type": "stream",
          "name": "stdout",
          "text": [
            "15 11 31\n",
            "35 37 103\n",
            "44 49 211\n",
            "291 80 527\n",
            "49 5 59\n"
          ]
        },
        {
          "output_type": "execute_result",
          "data": {
            "text/plain": [
              "5"
            ]
          },
          "metadata": {},
          "execution_count": 4
        }
      ]
    }
  ]
}